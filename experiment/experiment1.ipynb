{
 "cells": [
  {
   "cell_type": "code",
   "execution_count": 3,
   "metadata": {},
   "outputs": [
    {
     "name": "stderr",
     "output_type": "stream",
     "text": [
      "/Applications/anaconda/lib/python3.6/site-packages/matplotlib/figure.py:403: UserWarning: matplotlib is currently using a non-GUI backend, so cannot show the figure\n",
      "  \"matplotlib is currently using a non-GUI backend, \"\n"
     ]
    },
    {
     "data": {
      "image/png": "[encoded data removed]",
      "text/plain": [
       "<matplotlib.figure.Figure at 0x109fbb9b0>"
      ]
     },
     "metadata": {},
     "output_type": "display_data"
    }
   ],
   "source": [
    "%matplotlib inline\n",
    "\n",
    "import matplotlib.pyplot as plt # #imports frameworks and modules of plt to Python\n",
    "import numpy as np #imports library of arrays and mathematical functions to Python\n",
    "\n",
    "n = 100 #data of a sample number\n",
    "x = np.random.randn(n) #generates data of random numbers following the standard normal distribution and then multiplied by 100\n",
    "y = x * np.random.randn(n) #generates data of random numbers following the standard normal distribution and then multiplied by x\n",
    "\n",
    "figure, ax = plt.subplots() #adding both figure and axis objects\n",
    "fit = np.polyfit(x, y, deg=1) #creates object fit that returns coefficients of a polynomial that fits a set of data x, y and 1 degree of the polynomial \n",
    "ax.plot(x, fit[0] * x + fit[1], color='blue') #plots paired objects to the figure in blue color\n",
    "ax.scatter(x, y) #plotting data of x and y in points\n",
    "\n",
    "figure.show() #prints out the figure"
   ]
  },
  {
   "cell_type": "code",
   "execution_count": 16,
   "metadata": {},
   "outputs": [
    {
     "name": "stderr",
     "output_type": "stream",
     "text": [
      "/Applications/anaconda/lib/python3.6/site-packages/matplotlib/figure.py:403: UserWarning: matplotlib is currently using a non-GUI backend, so cannot show the figure\n",
      "  \"matplotlib is currently using a non-GUI backend, \"\n"
     ]
    },
    {
     "data": {
      "image/png": "[encoded data removed]",
      "text/plain": [
       "<matplotlib.figure.Figure at 0x10d4f03c8>"
      ]
     },
     "metadata": {},
     "output_type": "display_data"
    }
   ],
   "source": [
    "figure, ax = plt.subplots() #adding both figure and axis objects\n",
    "fit = np.polyfit(x, y, deg=3) #creates object fit that returns coefficients of a polynomial that fits a set of data x, y and 1 degree of the polynomial \n",
    "ax.plot(x, fit[0] * x + fit[1], color='red') #plots paired objects to the figure in blue color\n",
    "ax.scatter(x, y) #plotting data of x and y in points\n",
    "\n",
    "figure.show() #prints out the figure"
   ]
  },
  {
   "cell_type": "markdown",
   "metadata": {},
   "source": [
    "When you change the degree it decreases accuracy, resulting coefficent will increase. "
   ]
  }
 ],
 "metadata": {
  "kernelspec": {
   "display_name": "Python 3",
   "language": "python",
   "name": "python3"
  },
  "language_info": {
   "codemirror_mode": {
    "name": "ipython",
    "version": 3
   },
   "file_extension": ".py",
   "mimetype": "text/x-python",
   "name": "python",
   "nbconvert_exporter": "python",
   "pygments_lexer": "ipython3",
   "version": "3.6.1"
  }
 },
 "nbformat": 4,
 "nbformat_minor": 2
}
